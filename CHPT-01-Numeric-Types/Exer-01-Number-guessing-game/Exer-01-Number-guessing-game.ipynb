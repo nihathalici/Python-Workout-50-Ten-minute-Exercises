{
  "nbformat": 4,
  "nbformat_minor": 0,
  "metadata": {
    "colab": {
      "name": "Untitled1.ipynb",
      "provenance": [],
      "collapsed_sections": [],
      "toc_visible": true
    },
    "kernelspec": {
      "name": "python3",
      "display_name": "Python 3"
    }
  },
  "cells": [
    {
      "cell_type": "markdown",
      "metadata": {
        "id": "h6mgspFSAJxv"
      },
      "source": [
        "# **Exer-01: Number guessing game**"
      ]
    },
    {
      "cell_type": "markdown",
      "metadata": {
        "id": "qfd2NURBWKHp"
      },
      "source": [
        "At its heart, this program is a simple application of the comparison operators (==, <, and >) to a number, such that a user can guess the random integer that the computer has chosen. \n"
      ]
    },
    {
      "cell_type": "code",
      "source": [
        "import random\n",
        "\n",
        "x = random.randint(0, 10)\n",
        "\n",
        "print(\"Randomly chosen number is {}\".format(x))\n",
        "\n",
        "user_guess = int(input(\"Enter a number: \"))\n",
        "\n",
        "if user_guess == x:\n",
        "  print(\"You guessed correctly!\")\n",
        "elif user_guess < x:\n",
        "  print(\"Too low!\")\n",
        "elif user_guess > x:\n",
        "  print(\"Too high!\")\n",
        "else:\n",
        "  print(\"You should never get here.\")"
      ],
      "metadata": {
        "colab": {
          "base_uri": "https://localhost:8080/"
        },
        "id": "5Ct6EqFSZ2Ht",
        "outputId": "8a28e47a-3e48-4919-afd0-6600ec57dcc7"
      },
      "execution_count": null,
      "outputs": [
        {
          "output_type": "stream",
          "name": "stdout",
          "text": [
            "Randomly chosen number is 7\n",
            "Enter a number: 5\n",
            "Too low!\n"
          ]
        }
      ]
    },
    {
      "cell_type": "markdown",
      "source": [
        "**Beyond the Exercise-1:**\n",
        "\n",
        "Modify this program, such that it gives the user only three chances to guess the correct number. If they try three times without success, the program tells them that they didn’t guess in time and then exits."
      ],
      "metadata": {
        "id": "fZL-3Q9xgCp5"
      }
    },
    {
      "cell_type": "code",
      "source": [
        "import random\n",
        "\n",
        "def guessing_game():\n",
        "  \"\"\"Generate a random integer from 1 to 100.\n",
        "  Ask the user repeatedly to guess the number.\n",
        "  Until they guess correctly, tell them to guess higher or lower.\n",
        "  If they take more than three times to guess, the program\n",
        "  tells them that they're out of guesses.\"\"\"\n",
        "\n",
        "  answer = random.randint(0, 100)\n",
        "  remaining_guesses = 2\n",
        "\n",
        "  while remaining_guesses >= 0:\n",
        "    remaining_guesses -= 1\n",
        "    user_guess = int(input('What is your guess? '))\n",
        "\n",
        "    if user_guess == answer:\n",
        "      print(f'Right! The answer is {user_guess}')\n",
        "      break\n",
        "    \n",
        "    if user_guess < answer:\n",
        "      print(f'Your guess of {user_guess} is too low!')\n",
        "    \n",
        "    else:\n",
        "      print(f'Your guess of {user_guess} is too high!')\n",
        "  \n",
        "  else:\n",
        "    print('Your three chances are up!')\n",
        "\n",
        "guessing_game()"
      ],
      "metadata": {
        "colab": {
          "base_uri": "https://localhost:8080/"
        },
        "id": "6lAocKhzgyiu",
        "outputId": "233c3fc0-206e-4b42-8f6f-30d8e4988e69"
      },
      "execution_count": 3,
      "outputs": [
        {
          "output_type": "stream",
          "name": "stdout",
          "text": [
            "What is your guess? 34\n",
            "Your guess of 34 is too low!\n",
            "What is your guess? 75\n",
            "Your guess of 75 is too high!\n",
            "What is your guess? 51\n",
            "Your guess of 51 is too low!\n",
            "Your three chances are up!\n"
          ]
        }
      ]
    },
    {
      "cell_type": "markdown",
      "source": [
        "**Beyond the Exercise-2:**\n",
        "\n",
        "Not only should you choose a random number, but you should also choose a random number base, from 2 to 16, in which the user should submit their input. If the user inputs “10” as their guess, you’ll need to interpret it in the correct number base; “10” might mean 10 (decimal), or 2 (binary), or 16 (hexadecimal)."
      ],
      "metadata": {
        "id": "WCon5qaUnnPM"
      }
    },
    {
      "cell_type": "code",
      "source": [
        "import random\n",
        "\n",
        "def guessing_game():\n",
        "  \"\"\"Generate a random integer from 1 to 100.\n",
        "  Ask the user repeatedly to guess the number.\n",
        "  Until they guess correctly, tell them to guess higher or lower.\n",
        "  The program chooses a random number base for the user's input,\n",
        "  as well as a random number.\n",
        "  NOTE: This game might be considered torture under the Geneva conventions.\"\"\"\n",
        "\n",
        "  answer = random.randint(0, 100)\n",
        "  required_base = random.choice([2, 8, 10, 16])  # binary/octal/decimal/hex\n",
        "\n",
        "  while True:\n",
        "    user_guess = int(input('What is your guess? '), required_base)\n",
        "\n",
        "    if user_guess == answer:\n",
        "      print(f'Right! The answer is {user_guess}')\n",
        "      break\n",
        "    \n",
        "    if user_guess < answer:\n",
        "      print(f'Your guess of {user_guess} is too low!')\n",
        "    \n",
        "    else:\n",
        "      print(f'Your guess of {user_guess} is too high!')\n",
        "\n",
        "guessing_game()"
      ],
      "metadata": {
        "colab": {
          "base_uri": "https://localhost:8080/"
        },
        "id": "XRbK2HD0o1Fe",
        "outputId": "209d2cc0-2e68-47db-e195-45d60b3c51b0"
      },
      "execution_count": 5,
      "outputs": [
        {
          "output_type": "stream",
          "name": "stdout",
          "text": [
            "What is your guess? 53\n",
            "Your guess of 83 is too high!\n",
            "What is your guess? 12\n",
            "Your guess of 18 is too high!\n",
            "What is your guess? 5\n",
            "Your guess of 5 is too high!\n",
            "What is your guess? 2\n",
            "Your guess of 2 is too low!\n",
            "What is your guess? 3\n",
            "Right! The answer is 3\n"
          ]
        }
      ]
    },
    {
      "cell_type": "markdown",
      "source": [
        "**Beyond the Exercise-3:**\n",
        "\n",
        "Try the same thing, but have the program choose a random word from the dictionary, and then ask the user to guess the word. (You might want to limit yourself to words containing two to five letters, to avoid making it too horribly difficult.) Instead of telling the user that they should guess a smaller or larger number, have them choose an earlier or later word in the dict."
      ],
      "metadata": {
        "id": "WAUPQwXIuuCX"
      }
    },
    {
      "cell_type": "code",
      "source": [
        "import random\n",
        "\n",
        "def guessing_game():\n",
        "  mylist = [\"apple\", \"banana\", \"cherry\"]\n",
        "  answer = random.choice(mylist)\n",
        "  guess_num = 0\n",
        "\n",
        "  while guess_num < 3:\n",
        "    user_guess = str(input('Pick a fruit. What is your guess? '))\n",
        "    guess_num += 1\n",
        "\n",
        "    if user_guess == answer:\n",
        "       print(f'Right! The answer is {user_guess}')\n",
        "       break\n",
        "    \n",
        "    if user_guess < answer:\n",
        "      print(f'Your guess {user_guess} is not correct!')\n",
        "    \n",
        "    else:\n",
        "      print(f'Your guess {user_guess} is not correct!')\n",
        "\n",
        "guessing_game()"
      ],
      "metadata": {
        "colab": {
          "base_uri": "https://localhost:8080/"
        },
        "id": "eNVmGU3kvRlu",
        "outputId": "f25f1588-f977-4634-da49-111a7b398579"
      },
      "execution_count": 9,
      "outputs": [
        {
          "output_type": "stream",
          "name": "stdout",
          "text": [
            "Pick a fruit. What is your guess? banana\n",
            "Your guess banana is not correct!\n",
            "Pick a fruit. What is your guess? apple\n",
            "Your guess apple is not correct!\n",
            "Pick a fruit. What is your guess? cherry\n",
            "Right! The answer is cherry\n"
          ]
        }
      ]
    }
  ]
}