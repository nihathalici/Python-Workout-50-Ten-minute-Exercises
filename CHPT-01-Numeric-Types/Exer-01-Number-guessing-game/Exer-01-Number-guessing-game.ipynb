{
  "nbformat": 4,
  "nbformat_minor": 0,
  "metadata": {
    "colab": {
      "name": "Untitled1.ipynb",
      "provenance": [],
      "collapsed_sections": [],
      "toc_visible": true
    },
    "kernelspec": {
      "name": "python3",
      "display_name": "Python 3"
    }
  },
  "cells": [
    {
      "cell_type": "markdown",
      "metadata": {
        "id": "h6mgspFSAJxv"
      },
      "source": [
        "# **Exer-01: Number guessing game**"
      ]
    },
    {
      "cell_type": "markdown",
      "metadata": {
        "id": "qfd2NURBWKHp"
      },
      "source": [
        "At its heart, this program is a simple application of the comparison operators (==, <, and >) to a number, such that a user can guess the random integer that the computer has chosen. \n"
      ]
    },
    {
      "cell_type": "code",
      "source": [
        "import random\n",
        "\n",
        "x = random.randint(0, 10)\n",
        "\n",
        "print(\"Randomly chosen number is {}\".format(x))\n",
        "\n",
        "user_guess = int(input(\"Enter a number: \"))\n",
        "\n",
        "if user_guess == x:\n",
        "  print(\"You guessed correctly!\")\n",
        "elif user_guess < x:\n",
        "  print(\"Too low!\")\n",
        "elif user_guess > x:\n",
        "  print(\"Too high!\")\n",
        "else:\n",
        "  print(\"You should never get here.\")"
      ],
      "metadata": {
        "colab": {
          "base_uri": "https://localhost:8080/"
        },
        "id": "5Ct6EqFSZ2Ht",
        "outputId": "8a28e47a-3e48-4919-afd0-6600ec57dcc7"
      },
      "execution_count": 1,
      "outputs": [
        {
          "output_type": "stream",
          "name": "stdout",
          "text": [
            "Randomly chosen number is 7\n",
            "Enter a number: 5\n",
            "Too low!\n"
          ]
        }
      ]
    }
  ]
}